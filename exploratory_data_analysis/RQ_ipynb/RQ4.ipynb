{
 "cells": [
  {
   "cell_type": "markdown",
   "id": "374b0e0c",
   "metadata": {},
   "source": [
    "**RQ4: How do self-rated poverty trends compare between Metro Manila, Visayas, Mindanao, and Luzon (Outside of NCR)?**"
   ]
  },
  {
   "cell_type": "markdown",
   "id": "21107215",
   "metadata": {},
   "source": [
    "**Importing Necessary Libraries**"
   ]
  },
  {
   "cell_type": "code",
   "execution_count": 1,
   "id": "d82c8f42",
   "metadata": {},
   "outputs": [],
   "source": [
    "import numpy as np\n",
    "import pandas as pd\n",
    "import matplotlib as mpl\n",
    "import matplotlib.pyplot as plt\n",
    "import seaborn as sns\n",
    "from sklearn.linear_model import LinearRegression\n",
    "from sklearn.preprocessing import PolynomialFeatures\n",
    "from sklearn.pipeline import make_pipeline"
   ]
  },
  {
   "cell_type": "markdown",
   "id": "38bb812d",
   "metadata": {},
   "source": [
    "**Plot and Design Setting**"
   ]
  },
  {
   "cell_type": "code",
   "execution_count": 2,
   "id": "b47f3de6",
   "metadata": {},
   "outputs": [],
   "source": [
    "# Color settings\n",
    "colors = [\"#648FFF\", \"#785EF0\", \"#A11C5D\", \"#FE6100\", \"#FFB000\", \"#000000\", \"#FFFFFF\"]\n",
    "colors_grad = sns.color_palette('flare_r', 12)\n",
    "colors_heat1 = sns.color_palette('flare_r', as_cmap=True)\n",
    "colors_heat2 = sns.diverging_palette(315, 261, s=74, l=50, center='dark', as_cmap=True)\n",
    "color_bg = \"#1B181C\"\n",
    "color_text = \"#FFFFFF\"\n",
    "\n",
    "# Plot settings\n",
    "mpl.rcParams['figure.dpi'] = 600\n",
    "mpl.rcParams[\"figure.figsize\"] = (20, 8)\n",
    "mpl.rcParams['font.family'] = 'Roboto'\n",
    "mpl.rcParams['figure.titlesize'] = 32\n",
    "mpl.rcParams['axes.titlesize'] = 32\n",
    "mpl.rcParams['axes.titleweight'] = 'bold'\n",
    "mpl.rcParams['axes.labelsize'] = 22\n",
    "mpl.rcParams['xtick.labelsize'] = 22\n",
    "mpl.rcParams['ytick.labelsize'] = 22\n",
    "mpl.rcParams['axes.titlepad'] = 72\n",
    "mpl.rcParams['axes.labelpad'] = 10\n",
    "mpl.rcParams['xtick.major.pad'] = 10\n",
    "mpl.rcParams['ytick.major.pad'] = 10\n",
    "mpl.rcParams['xtick.major.width'] = 0\n",
    "mpl.rcParams['xtick.minor.width'] = 0\n",
    "mpl.rcParams['ytick.major.width'] = 0\n",
    "mpl.rcParams['ytick.minor.width'] = 0\n",
    "mpl.rcParams['axes.spines.top'] = False\n",
    "mpl.rcParams['axes.spines.right'] = False\n",
    "mpl.rcParams['axes.grid'] = False\n",
    "mpl.rcParams['legend.title_fontsize'] = 14\n",
    "mpl.rcParams['legend.fontsize'] = 12\n",
    "mpl.rcParams['legend.frameon'] = False\n",
    "plt.rcParams['patch.linewidth'] = 0\n",
    "plt.rcParams['patch.edgecolor'] = 'none'\n",
    "mpl.rcParams[\"figure.facecolor\"] = color_bg\n",
    "mpl.rcParams[\"axes.facecolor\"] = color_bg\n",
    "mpl.rcParams[\"savefig.facecolor\"] = color_bg\n",
    "mpl.rcParams['text.color'] = color_text\n",
    "mpl.rcParams['axes.labelcolor'] = color_text\n",
    "mpl.rcParams['xtick.color'] = color_text\n",
    "mpl.rcParams['ytick.color'] = color_text\n",
    "mpl.rcParams['axes.edgecolor'] = color_text"
   ]
  },
  {
   "cell_type": "markdown",
   "id": "0deca412",
   "metadata": {},
   "source": [
    "**Data Preprocessing and Extraction**"
   ]
  },
  {
   "cell_type": "code",
   "execution_count": null,
   "id": "263e25a0",
   "metadata": {},
   "outputs": [
    {
     "ename": "FileNotFoundError",
     "evalue": "[Errno 2] No such file or directory: 'plot_results/CS132_DataSheet-by-area.csv'",
     "output_type": "error",
     "traceback": [
      "\u001b[31m---------------------------------------------------------------------------\u001b[39m",
      "\u001b[31mFileNotFoundError\u001b[39m                         Traceback (most recent call last)",
      "\u001b[36mCell\u001b[39m\u001b[36m \u001b[39m\u001b[32mIn[3]\u001b[39m\u001b[32m, line 2\u001b[39m\n\u001b[32m      1\u001b[39m \u001b[38;5;66;03m# Load Dataset and Data Cleaning for areas\u001b[39;00m\n\u001b[32m----> \u001b[39m\u001b[32m2\u001b[39m area_data = \u001b[43mpd\u001b[49m\u001b[43m.\u001b[49m\u001b[43mread_csv\u001b[49m\u001b[43m(\u001b[49m\u001b[33;43m\"\u001b[39;49m\u001b[33;43mplot_results/CS132_DataSheet-by-area.csv\u001b[39;49m\u001b[33;43m\"\u001b[39;49m\u001b[43m)\u001b[49m\n\u001b[32m      4\u001b[39m \u001b[38;5;66;03m# Ensure 'Date formatted' and 'Month Only' columns exist and handle missing or improperly formatted data\u001b[39;00m\n\u001b[32m      5\u001b[39m \u001b[38;5;28;01mif\u001b[39;00m \u001b[33m'\u001b[39m\u001b[33mDate formatted\u001b[39m\u001b[33m'\u001b[39m \u001b[38;5;129;01mnot\u001b[39;00m \u001b[38;5;129;01min\u001b[39;00m area_data.columns \u001b[38;5;129;01mor\u001b[39;00m \u001b[33m'\u001b[39m\u001b[33mMonth Only\u001b[39m\u001b[33m'\u001b[39m \u001b[38;5;129;01mnot\u001b[39;00m \u001b[38;5;129;01min\u001b[39;00m area_data.columns:\n",
      "\u001b[36mFile \u001b[39m\u001b[32m/Library/Frameworks/Python.framework/Versions/3.13/lib/python3.13/site-packages/pandas/io/parsers/readers.py:1026\u001b[39m, in \u001b[36mread_csv\u001b[39m\u001b[34m(filepath_or_buffer, sep, delimiter, header, names, index_col, usecols, dtype, engine, converters, true_values, false_values, skipinitialspace, skiprows, skipfooter, nrows, na_values, keep_default_na, na_filter, verbose, skip_blank_lines, parse_dates, infer_datetime_format, keep_date_col, date_parser, date_format, dayfirst, cache_dates, iterator, chunksize, compression, thousands, decimal, lineterminator, quotechar, quoting, doublequote, escapechar, comment, encoding, encoding_errors, dialect, on_bad_lines, delim_whitespace, low_memory, memory_map, float_precision, storage_options, dtype_backend)\u001b[39m\n\u001b[32m   1013\u001b[39m kwds_defaults = _refine_defaults_read(\n\u001b[32m   1014\u001b[39m     dialect,\n\u001b[32m   1015\u001b[39m     delimiter,\n\u001b[32m   (...)\u001b[39m\u001b[32m   1022\u001b[39m     dtype_backend=dtype_backend,\n\u001b[32m   1023\u001b[39m )\n\u001b[32m   1024\u001b[39m kwds.update(kwds_defaults)\n\u001b[32m-> \u001b[39m\u001b[32m1026\u001b[39m \u001b[38;5;28;01mreturn\u001b[39;00m \u001b[43m_read\u001b[49m\u001b[43m(\u001b[49m\u001b[43mfilepath_or_buffer\u001b[49m\u001b[43m,\u001b[49m\u001b[43m \u001b[49m\u001b[43mkwds\u001b[49m\u001b[43m)\u001b[49m\n",
      "\u001b[36mFile \u001b[39m\u001b[32m/Library/Frameworks/Python.framework/Versions/3.13/lib/python3.13/site-packages/pandas/io/parsers/readers.py:620\u001b[39m, in \u001b[36m_read\u001b[39m\u001b[34m(filepath_or_buffer, kwds)\u001b[39m\n\u001b[32m    617\u001b[39m _validate_names(kwds.get(\u001b[33m\"\u001b[39m\u001b[33mnames\u001b[39m\u001b[33m\"\u001b[39m, \u001b[38;5;28;01mNone\u001b[39;00m))\n\u001b[32m    619\u001b[39m \u001b[38;5;66;03m# Create the parser.\u001b[39;00m\n\u001b[32m--> \u001b[39m\u001b[32m620\u001b[39m parser = \u001b[43mTextFileReader\u001b[49m\u001b[43m(\u001b[49m\u001b[43mfilepath_or_buffer\u001b[49m\u001b[43m,\u001b[49m\u001b[43m \u001b[49m\u001b[43m*\u001b[49m\u001b[43m*\u001b[49m\u001b[43mkwds\u001b[49m\u001b[43m)\u001b[49m\n\u001b[32m    622\u001b[39m \u001b[38;5;28;01mif\u001b[39;00m chunksize \u001b[38;5;129;01mor\u001b[39;00m iterator:\n\u001b[32m    623\u001b[39m     \u001b[38;5;28;01mreturn\u001b[39;00m parser\n",
      "\u001b[36mFile \u001b[39m\u001b[32m/Library/Frameworks/Python.framework/Versions/3.13/lib/python3.13/site-packages/pandas/io/parsers/readers.py:1620\u001b[39m, in \u001b[36mTextFileReader.__init__\u001b[39m\u001b[34m(self, f, engine, **kwds)\u001b[39m\n\u001b[32m   1617\u001b[39m     \u001b[38;5;28mself\u001b[39m.options[\u001b[33m\"\u001b[39m\u001b[33mhas_index_names\u001b[39m\u001b[33m\"\u001b[39m] = kwds[\u001b[33m\"\u001b[39m\u001b[33mhas_index_names\u001b[39m\u001b[33m\"\u001b[39m]\n\u001b[32m   1619\u001b[39m \u001b[38;5;28mself\u001b[39m.handles: IOHandles | \u001b[38;5;28;01mNone\u001b[39;00m = \u001b[38;5;28;01mNone\u001b[39;00m\n\u001b[32m-> \u001b[39m\u001b[32m1620\u001b[39m \u001b[38;5;28mself\u001b[39m._engine = \u001b[38;5;28;43mself\u001b[39;49m\u001b[43m.\u001b[49m\u001b[43m_make_engine\u001b[49m\u001b[43m(\u001b[49m\u001b[43mf\u001b[49m\u001b[43m,\u001b[49m\u001b[43m \u001b[49m\u001b[38;5;28;43mself\u001b[39;49m\u001b[43m.\u001b[49m\u001b[43mengine\u001b[49m\u001b[43m)\u001b[49m\n",
      "\u001b[36mFile \u001b[39m\u001b[32m/Library/Frameworks/Python.framework/Versions/3.13/lib/python3.13/site-packages/pandas/io/parsers/readers.py:1880\u001b[39m, in \u001b[36mTextFileReader._make_engine\u001b[39m\u001b[34m(self, f, engine)\u001b[39m\n\u001b[32m   1878\u001b[39m     \u001b[38;5;28;01mif\u001b[39;00m \u001b[33m\"\u001b[39m\u001b[33mb\u001b[39m\u001b[33m\"\u001b[39m \u001b[38;5;129;01mnot\u001b[39;00m \u001b[38;5;129;01min\u001b[39;00m mode:\n\u001b[32m   1879\u001b[39m         mode += \u001b[33m\"\u001b[39m\u001b[33mb\u001b[39m\u001b[33m\"\u001b[39m\n\u001b[32m-> \u001b[39m\u001b[32m1880\u001b[39m \u001b[38;5;28mself\u001b[39m.handles = \u001b[43mget_handle\u001b[49m\u001b[43m(\u001b[49m\n\u001b[32m   1881\u001b[39m \u001b[43m    \u001b[49m\u001b[43mf\u001b[49m\u001b[43m,\u001b[49m\n\u001b[32m   1882\u001b[39m \u001b[43m    \u001b[49m\u001b[43mmode\u001b[49m\u001b[43m,\u001b[49m\n\u001b[32m   1883\u001b[39m \u001b[43m    \u001b[49m\u001b[43mencoding\u001b[49m\u001b[43m=\u001b[49m\u001b[38;5;28;43mself\u001b[39;49m\u001b[43m.\u001b[49m\u001b[43moptions\u001b[49m\u001b[43m.\u001b[49m\u001b[43mget\u001b[49m\u001b[43m(\u001b[49m\u001b[33;43m\"\u001b[39;49m\u001b[33;43mencoding\u001b[39;49m\u001b[33;43m\"\u001b[39;49m\u001b[43m,\u001b[49m\u001b[43m \u001b[49m\u001b[38;5;28;43;01mNone\u001b[39;49;00m\u001b[43m)\u001b[49m\u001b[43m,\u001b[49m\n\u001b[32m   1884\u001b[39m \u001b[43m    \u001b[49m\u001b[43mcompression\u001b[49m\u001b[43m=\u001b[49m\u001b[38;5;28;43mself\u001b[39;49m\u001b[43m.\u001b[49m\u001b[43moptions\u001b[49m\u001b[43m.\u001b[49m\u001b[43mget\u001b[49m\u001b[43m(\u001b[49m\u001b[33;43m\"\u001b[39;49m\u001b[33;43mcompression\u001b[39;49m\u001b[33;43m\"\u001b[39;49m\u001b[43m,\u001b[49m\u001b[43m \u001b[49m\u001b[38;5;28;43;01mNone\u001b[39;49;00m\u001b[43m)\u001b[49m\u001b[43m,\u001b[49m\n\u001b[32m   1885\u001b[39m \u001b[43m    \u001b[49m\u001b[43mmemory_map\u001b[49m\u001b[43m=\u001b[49m\u001b[38;5;28;43mself\u001b[39;49m\u001b[43m.\u001b[49m\u001b[43moptions\u001b[49m\u001b[43m.\u001b[49m\u001b[43mget\u001b[49m\u001b[43m(\u001b[49m\u001b[33;43m\"\u001b[39;49m\u001b[33;43mmemory_map\u001b[39;49m\u001b[33;43m\"\u001b[39;49m\u001b[43m,\u001b[49m\u001b[43m \u001b[49m\u001b[38;5;28;43;01mFalse\u001b[39;49;00m\u001b[43m)\u001b[49m\u001b[43m,\u001b[49m\n\u001b[32m   1886\u001b[39m \u001b[43m    \u001b[49m\u001b[43mis_text\u001b[49m\u001b[43m=\u001b[49m\u001b[43mis_text\u001b[49m\u001b[43m,\u001b[49m\n\u001b[32m   1887\u001b[39m \u001b[43m    \u001b[49m\u001b[43merrors\u001b[49m\u001b[43m=\u001b[49m\u001b[38;5;28;43mself\u001b[39;49m\u001b[43m.\u001b[49m\u001b[43moptions\u001b[49m\u001b[43m.\u001b[49m\u001b[43mget\u001b[49m\u001b[43m(\u001b[49m\u001b[33;43m\"\u001b[39;49m\u001b[33;43mencoding_errors\u001b[39;49m\u001b[33;43m\"\u001b[39;49m\u001b[43m,\u001b[49m\u001b[43m \u001b[49m\u001b[33;43m\"\u001b[39;49m\u001b[33;43mstrict\u001b[39;49m\u001b[33;43m\"\u001b[39;49m\u001b[43m)\u001b[49m\u001b[43m,\u001b[49m\n\u001b[32m   1888\u001b[39m \u001b[43m    \u001b[49m\u001b[43mstorage_options\u001b[49m\u001b[43m=\u001b[49m\u001b[38;5;28;43mself\u001b[39;49m\u001b[43m.\u001b[49m\u001b[43moptions\u001b[49m\u001b[43m.\u001b[49m\u001b[43mget\u001b[49m\u001b[43m(\u001b[49m\u001b[33;43m\"\u001b[39;49m\u001b[33;43mstorage_options\u001b[39;49m\u001b[33;43m\"\u001b[39;49m\u001b[43m,\u001b[49m\u001b[43m \u001b[49m\u001b[38;5;28;43;01mNone\u001b[39;49;00m\u001b[43m)\u001b[49m\u001b[43m,\u001b[49m\n\u001b[32m   1889\u001b[39m \u001b[43m\u001b[49m\u001b[43m)\u001b[49m\n\u001b[32m   1890\u001b[39m \u001b[38;5;28;01massert\u001b[39;00m \u001b[38;5;28mself\u001b[39m.handles \u001b[38;5;129;01mis\u001b[39;00m \u001b[38;5;129;01mnot\u001b[39;00m \u001b[38;5;28;01mNone\u001b[39;00m\n\u001b[32m   1891\u001b[39m f = \u001b[38;5;28mself\u001b[39m.handles.handle\n",
      "\u001b[36mFile \u001b[39m\u001b[32m/Library/Frameworks/Python.framework/Versions/3.13/lib/python3.13/site-packages/pandas/io/common.py:873\u001b[39m, in \u001b[36mget_handle\u001b[39m\u001b[34m(path_or_buf, mode, encoding, compression, memory_map, is_text, errors, storage_options)\u001b[39m\n\u001b[32m    868\u001b[39m \u001b[38;5;28;01melif\u001b[39;00m \u001b[38;5;28misinstance\u001b[39m(handle, \u001b[38;5;28mstr\u001b[39m):\n\u001b[32m    869\u001b[39m     \u001b[38;5;66;03m# Check whether the filename is to be opened in binary mode.\u001b[39;00m\n\u001b[32m    870\u001b[39m     \u001b[38;5;66;03m# Binary mode does not support 'encoding' and 'newline'.\u001b[39;00m\n\u001b[32m    871\u001b[39m     \u001b[38;5;28;01mif\u001b[39;00m ioargs.encoding \u001b[38;5;129;01mand\u001b[39;00m \u001b[33m\"\u001b[39m\u001b[33mb\u001b[39m\u001b[33m\"\u001b[39m \u001b[38;5;129;01mnot\u001b[39;00m \u001b[38;5;129;01min\u001b[39;00m ioargs.mode:\n\u001b[32m    872\u001b[39m         \u001b[38;5;66;03m# Encoding\u001b[39;00m\n\u001b[32m--> \u001b[39m\u001b[32m873\u001b[39m         handle = \u001b[38;5;28;43mopen\u001b[39;49m\u001b[43m(\u001b[49m\n\u001b[32m    874\u001b[39m \u001b[43m            \u001b[49m\u001b[43mhandle\u001b[49m\u001b[43m,\u001b[49m\n\u001b[32m    875\u001b[39m \u001b[43m            \u001b[49m\u001b[43mioargs\u001b[49m\u001b[43m.\u001b[49m\u001b[43mmode\u001b[49m\u001b[43m,\u001b[49m\n\u001b[32m    876\u001b[39m \u001b[43m            \u001b[49m\u001b[43mencoding\u001b[49m\u001b[43m=\u001b[49m\u001b[43mioargs\u001b[49m\u001b[43m.\u001b[49m\u001b[43mencoding\u001b[49m\u001b[43m,\u001b[49m\n\u001b[32m    877\u001b[39m \u001b[43m            \u001b[49m\u001b[43merrors\u001b[49m\u001b[43m=\u001b[49m\u001b[43merrors\u001b[49m\u001b[43m,\u001b[49m\n\u001b[32m    878\u001b[39m \u001b[43m            \u001b[49m\u001b[43mnewline\u001b[49m\u001b[43m=\u001b[49m\u001b[33;43m\"\u001b[39;49m\u001b[33;43m\"\u001b[39;49m\u001b[43m,\u001b[49m\n\u001b[32m    879\u001b[39m \u001b[43m        \u001b[49m\u001b[43m)\u001b[49m\n\u001b[32m    880\u001b[39m     \u001b[38;5;28;01melse\u001b[39;00m:\n\u001b[32m    881\u001b[39m         \u001b[38;5;66;03m# Binary mode\u001b[39;00m\n\u001b[32m    882\u001b[39m         handle = \u001b[38;5;28mopen\u001b[39m(handle, ioargs.mode)\n",
      "\u001b[31mFileNotFoundError\u001b[39m: [Errno 2] No such file or directory: 'plot_results/CS132_DataSheet-by-area.csv'"
     ]
    }
   ],
   "source": [
    "# Load Dataset and Data Cleaning for areas\n",
    "area_data = pd.read_csv(\"../dataset/CS132_DataSheet-by-area.csv\")\n",
    "\n",
    "# Ensure 'Date formatted' and 'Month Only' columns exist and handle missing or improperly formatted data\n",
    "if 'Date formatted' not in area_data.columns or 'Month Only' not in area_data.columns:\n",
    "    raise KeyError(\"The dataset must contain 'Date formatted' and 'Month Only' columns.\")\n",
    "\n",
    "# Convert 'Date formatted' to datetime and extract the year\n",
    "area_data['Date formatted'] = pd.to_datetime(area_data['Date formatted'], errors='coerce')\n",
    "area_data['Year'] = area_data['Date formatted'].dt.year + (area_data['Month Only'] / 12)\n",
    "\n",
    "# Ensure 'Poor ' column exists (with trailing space)\n",
    "if 'Poor ' not in area_data.columns:\n",
    "    raise KeyError(\"The dataset must contain the 'Poor ' column (with a trailing space).\")\n",
    "\n",
    "# Ensure 'Borderline' and 'Not Poor' columns exist\n",
    "if 'Borderline' not in area_data.columns or 'Not Poor' not in area_data.columns:\n",
    "    raise KeyError(\"The dataset must contain 'Borderline' and 'Not Poor' columns.\")"
   ]
  },
  {
   "cell_type": "code",
   "execution_count": null,
   "id": "036d81b9",
   "metadata": {},
   "outputs": [],
   "source": [
    "# Extract data for \"Poor \" (with trailing space) by area\n",
    "areas = area_data['Area'].unique()"
   ]
  },
  {
   "cell_type": "markdown",
   "id": "823c58ea",
   "metadata": {},
   "source": [
    "**Training and generating the subplot**"
   ]
  },
  {
   "cell_type": "code",
   "execution_count": null,
   "id": "65174aeb",
   "metadata": {},
   "outputs": [],
   "source": [
    "# Create subplots for \"Poor\", \"Borderline\", and \"Not Poor\"\n",
    "fig, axes = plt.subplots(nrows=3, ncols=1, figsize=(5, 6))  # Adjust figure size for subplots\n",
    "degree = 3  # Degree of the polynomial regression\n",
    "\n",
    "\n",
    "\n",
    "# Plot for \"Poor\"\n",
    "ax = axes[0]\n",
    "for i, area in enumerate(areas):\n",
    "    area_subset = area_data[area_data['Area'] == area]\n",
    "    x = area_subset['Year'].values.reshape(-1, 1)\n",
    "    y = area_subset['Poor '].values\n",
    "\n",
    "    # Scatter plot\n",
    "    ax.scatter(x, y, label=area, s=4, color=colors[i % len(colors)])  # Use specified colors cyclically\n",
    "\n",
    "    # Polynomial regression\n",
    "    poly_model = make_pipeline(PolynomialFeatures(degree), LinearRegression())\n",
    "    poly_model.fit(x, y)\n",
    "    y_pred = poly_model.predict(x)\n",
    "    ax.plot(x, y_pred, linewidth=0.6, color=colors[i % len(colors)])  # Match regression line color to scatter points\n",
    "\n",
    "ax.set_title('Poor Respondent Count', fontsize=6, pad=4)\n",
    "ax.set_xlabel('Year', fontsize=4, labelpad=2)\n",
    "ax.set_ylabel('Count', fontsize=4, labelpad=2)\n",
    "ax.tick_params(axis='both', which='major', labelsize=3)\n",
    "ax.legend(title='Area', fontsize=3, title_fontsize=4, loc='upper left', bbox_to_anchor=(1.05, 1))\n",
    "\n",
    "# Plot for \"Borderline\"\n",
    "ax = axes[1]\n",
    "for i, area in enumerate(areas):\n",
    "    area_subset = area_data[area_data['Area'] == area]\n",
    "    x = area_subset['Year'].values.reshape(-1, 1)\n",
    "    y = area_subset['Borderline'].values\n",
    "\n",
    "    # Scatter plot\n",
    "    ax.scatter(x, y, label=area, s=4, color=colors[i % len(colors)])  # Use specified colors cyclically\n",
    "\n",
    "    # Polynomial regression\n",
    "    poly_model = make_pipeline(PolynomialFeatures(degree), LinearRegression())\n",
    "    poly_model.fit(x, y)\n",
    "    y_pred = poly_model.predict(x)\n",
    "    ax.plot(x, y_pred, linewidth=0.6, color=colors[i % len(colors)])  # Match regression line color to scatter points\n",
    "\n",
    "ax.set_title('Borderline Respondent Count', fontsize=6, pad=4)\n",
    "ax.set_xlabel('Year', fontsize=4, labelpad=2)\n",
    "ax.set_ylabel('Count', fontsize=4, labelpad=2)\n",
    "ax.tick_params(axis='both', which='major', labelsize=3)\n",
    "\n",
    "# Plot for \"Not Poor\"\n",
    "ax = axes[2]\n",
    "for i, area in enumerate(areas):\n",
    "    area_subset = area_data[area_data['Area'] == area]\n",
    "    x = area_subset['Year'].values.reshape(-1, 1)\n",
    "    y = area_subset['Not Poor'].values\n",
    "\n",
    "    # Scatter plot\n",
    "    ax.scatter(x, y, label=area, s=4, color=colors[i % len(colors)])  # Use specified colors cyclically\n",
    "\n",
    "    # Polynomial regression\n",
    "    poly_model = make_pipeline(PolynomialFeatures(degree), LinearRegression())\n",
    "    poly_model.fit(x, y)\n",
    "    y_pred = poly_model.predict(x)\n",
    "    ax.plot(x, y_pred, linewidth=0.6, color=colors[i % len(colors)])  # Match regression line color to scatter points\n",
    "\n",
    "ax.set_title('Not Poor Respondent Count', fontsize=6, pad=4)\n",
    "ax.set_xlabel('Year', fontsize=4, labelpad=2)\n",
    "ax.set_ylabel('Count', fontsize=4, labelpad=2)\n",
    "ax.tick_params(axis='both', which='major', labelsize=3)\n",
    "\n",
    "# Adjust layout for better fit\n",
    "plt.tight_layout(pad=0.5, h_pad=1.0)\n",
    "\n",
    "# Save the plot\n",
    "plt.savefig('respondent_count_by_area_subplots.png', dpi=300)\n",
    "\n",
    "# Show the plot\n",
    "plt.show()\n"
   ]
  }
 ],
 "metadata": {
  "kernelspec": {
   "display_name": "Python 3",
   "language": "python",
   "name": "python3"
  },
  "language_info": {
   "codemirror_mode": {
    "name": "ipython",
    "version": 3
   },
   "file_extension": ".py",
   "mimetype": "text/x-python",
   "name": "python",
   "nbconvert_exporter": "python",
   "pygments_lexer": "ipython3",
   "version": "3.13.0"
  }
 },
 "nbformat": 4,
 "nbformat_minor": 5
}
